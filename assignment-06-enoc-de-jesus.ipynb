{
 "cells": [
  {
   "cell_type": "markdown",
   "metadata": {},
   "source": [
    "1. Explanation Given:  \n",
    "\n",
    "The provided code defines a function named fibonacci that generates a list containing the first n numbers of the Fibonacci sequence. The Fibonacci sequence is a series of numbers where each number is the sum of the two preceding ones, usually starting with 0 and 1.\n",
    "\n",
    "The function begins by checking if the input n is less than or equal to 0. If so, it returns an empty list, as there are no Fibonacci numbers to generate. If n is exactly 1, the function returns a list containing only the first Fibonacci number, which is [0]. For n equal to 2, it returns the first two Fibonacci numbers, [0, 1].\n",
    "\n",
    "For values of n greater than 2, the function initializes a list fib with the first two Fibonacci numbers [0, 1]. It then enters a loop that runs from 2 to n-1. In each iteration of the loop, it calculates the next Fibonacci number by summing the last two numbers in the list (fib[i-1] and fib[i-2]) and appends this new number to the list fib. After the loop completes, the function returns the list fib, which now contains the first n Fibonacci numbers.\n",
    "\n",
    "This implementation is efficient for generating the Fibonacci sequence up to a reasonably large n, but it could be optimized further for very large values of n using more advanced techniques like memoization or matrix exponentiation"
   ]
  },
  {
   "cell_type": "markdown",
   "metadata": {},
   "source": [
    "2. Explanation Given: "
   ]
  },
  {
   "cell_type": "markdown",
   "metadata": {},
   "source": [
    "To initialize a new Git repository with a `README.md` and a `.gitignore` file, follow these steps:\n",
    "\n",
    "1. **Open a Terminal**: In Visual Studio Code, you can open the integrated terminal by pressing ``Ctrl+` `` (backtick) or navigating to `View > Terminal`.\n",
    "\n",
    "2. **Navigate to Your Project Directory**: Use the `cd` command to navigate to the directory where you want to initialize the Git repository. For example:\n",
    "    ```sh\n",
    "    cd path/to/your/project\n",
    "    ```\n",
    "\n",
    "3. **Initialize the Git Repository**: Run the following command to initialize a new Git repository in the current directory:\n",
    "    ```sh\n",
    "    git init\n",
    "    ```\n",
    "\n",
    "4. **Create a README.md File**: Create a `README.md` file using the `echo` command or by manually creating the file in your editor:\n",
    "    ```sh\n",
    "    echo \"# Project Title\" > README.md\n",
    "    ```\n",
    "\n",
    "5. **Create a .gitignore File**: Create a `.gitignore` file using the `echo` command or by manually creating the file in your editor. Add common patterns to ignore, such as:\n",
    "    ```sh\n",
    "    echo \"node_modules/\" > .gitignore\n",
    "    echo \"*.pyc\" >> .gitignore\n",
    "    echo \"__pycache__/\" >> .gitignore\n",
    "    ```\n",
    "\n",
    "6. **Add Files to the Repository**: Add the files you want to track to the repository using the `git add` command. To add all files in the directory, use:\n",
    "    ```sh\n",
    "    git add .\n",
    "    ```\n",
    "\n",
    "7. **Commit the Files**: Commit the added files with a descriptive commit message using the `git commit` command:\n",
    "    ```sh\n",
    "    git commit -m \"Initial commit with README.md and .gitignore\"\n",
    "    ```\n",
    "\n",
    "Here's a summary of the commands:\n",
    "\n"
   ]
  },
  {
   "cell_type": "code",
   "execution_count": null,
   "metadata": {
    "vscode": {
     "languageId": "sh"
    }
   },
   "outputs": [],
   "source": [
    "cd path/to/your/project\n",
    "git init\n",
    "echo \"# Project Title\" > README.md\n",
    "echo \"node_modules/\" > .gitignore\n",
    "echo \"*.pyc\" >> .gitignore\n",
    "echo \"__pycache__/\" >> .gitignore\n",
    "git add .\n",
    "git commit -m \"Initial commit with README.md and .gitignore\""
   ]
  },
  {
   "cell_type": "markdown",
   "metadata": {},
   "source": [
    "\n",
    "\n",
    "After these steps, you will have a new Git repository initialized in your project directory with a `README.md` and a `.gitignore` file."
   ]
  },
  {
   "cell_type": "code",
   "execution_count": null,
   "metadata": {
    "vscode": {
     "languageId": "plaintext"
    }
   },
   "outputs": [],
   "source": []
  }
 ],
 "metadata": {
  "language_info": {
   "name": "python"
  }
 },
 "nbformat": 4,
 "nbformat_minor": 2
}
